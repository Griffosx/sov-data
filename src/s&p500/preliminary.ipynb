{
 "cells": [
  {
   "cell_type": "code",
   "execution_count": 18,
   "metadata": {},
   "outputs": [],
   "source": [
    "import pandas as pd\n",
    "import matplotlib.pyplot as plt\n",
    "from matplotlib.patches import Rectangle\n",
    "import seaborn as sns\n",
    "import numpy as np\n",
    "from datetime import datetime\n",
    "from pathlib import Path\n",
    "\n",
    "# Set style for all visualizations\n",
    "plt.style.use(\"seaborn-v0_8-darkgrid\")\n",
    "sns.set_palette(\"husl\")"
   ]
  },
  {
   "cell_type": "code",
   "execution_count": null,
   "metadata": {},
   "outputs": [],
   "source": [
    "data_dir = Path(\"~/Projects/sov-data/data\").expanduser()\n",
    "\n",
    "# Load the dataset\n",
    "df = pd.read_csv(data_dir / \"s&p500-constituents.csv\")\n",
    "\n",
    "# Display basic information about the dataset\n",
    "print(\"Dataset Shape:\", df.shape)\n",
    "print(\"\\nColumns:\", df.columns.tolist())\n",
    "print(\"\\nFirst few rows:\")\n",
    "df.head()"
   ]
  },
  {
   "cell_type": "code",
   "execution_count": null,
   "metadata": {},
   "outputs": [],
   "source": [
    "# Convert dates and handle missing values\n",
    "df[\"Date added\"] = pd.to_datetime(df[\"Date added\"])\n",
    "df[\"Founded\"] = pd.to_numeric(df[\"Founded\"], errors=\"coerce\")\n",
    "\n",
    "# Display missing values\n",
    "print(\"Missing values in each column:\")\n",
    "print(df.isnull().sum())"
   ]
  },
  {
   "cell_type": "code",
   "execution_count": null,
   "metadata": {},
   "outputs": [],
   "source": [
    "# Get sector counts\n",
    "sector_counts = df[\"GICS Sector\"].value_counts()\n",
    "\n",
    "# Create a figure with two subplots side by side\n",
    "fig, (ax1, ax2) = plt.subplots(1, 2, figsize=(20, 8))\n",
    "\n",
    "# Bar plot on the left\n",
    "sns.barplot(x=sector_counts.values, y=sector_counts.index, ax=ax1)\n",
    "ax1.set_title(\"Companies by Sector in S&P 500\")\n",
    "ax1.set_xlabel(\"Number of Companies\")\n",
    "\n",
    "# Pie chart on the right\n",
    "ax2.pie(sector_counts.values, labels=sector_counts.index, autopct=\"%1.1f%%\")\n",
    "ax2.set_title(\"S&P 500 Sector Composition\")\n",
    "ax2.axis(\"equal\")\n",
    "\n",
    "# Adjust layout to prevent overlap\n",
    "plt.tight_layout()\n",
    "\n",
    "# Show the plot\n",
    "plt.show()"
   ]
  },
  {
   "cell_type": "code",
   "execution_count": null,
   "metadata": {},
   "outputs": [],
   "source": [
    "# Extract states from headquarters location\n",
    "df[\"State\"] = df[\"Headquarters Location\"].str.extract(r\",\\s*(\\w+)$\")\n",
    "\n",
    "# Get top 15 states\n",
    "state_counts = df[\"State\"].value_counts().head(15)\n",
    "\n",
    "# Create a figure with two subplots side by side\n",
    "fig, (ax1, ax2) = plt.subplots(1, 2, figsize=(20, 8))\n",
    "\n",
    "# Bar plot on the left\n",
    "sns.barplot(x=state_counts.values, y=state_counts.index, ax=ax1)\n",
    "ax1.set_title(\"Top 15 States by Number of S&P 500 Company Headquarters\")\n",
    "ax1.set_xlabel(\"Number of Companies\")\n",
    "\n",
    "# Pie chart on the right\n",
    "ax2.pie(state_counts.values, labels=state_counts.index, autopct=\"%1.1f%%\")\n",
    "ax2.set_title(\"Top 15 States Distribution of S&P 500 Headquarters\")\n",
    "ax2.axis(\"equal\")\n",
    "\n",
    "# Add a custom legend to the pie chart to improve readability\n",
    "# Reposition it outside the plot\n",
    "ax2.legend(\n",
    "    state_counts.index, title=\"States\", loc=\"center left\", bbox_to_anchor=(1, 0, 0.5, 1)\n",
    ")\n",
    "\n",
    "# Adjust layout to prevent overlap\n",
    "plt.tight_layout()\n",
    "\n",
    "# Show the plot\n",
    "plt.show()"
   ]
  },
  {
   "cell_type": "code",
   "execution_count": null,
   "metadata": {},
   "outputs": [],
   "source": [
    "# Company age distribution\n",
    "current_year = datetime.now().year\n",
    "df[\"Age\"] = current_year - df[\"Founded\"]\n",
    "\n",
    "plt.figure(figsize=(12, 6))\n",
    "sns.histplot(data=df, x=\"Age\", bins=30)\n",
    "plt.title(\"Distribution of Company Ages\")\n",
    "plt.xlabel(\"Age (Years)\")\n",
    "plt.ylabel(\"Count\")\n",
    "plt.show()"
   ]
  },
  {
   "cell_type": "code",
   "execution_count": null,
   "metadata": {},
   "outputs": [],
   "source": [
    "# Create custom bins for the timeline\n",
    "bins = [pd.Timestamp.min] + [pd.Timestamp(f\"{year}-01-01\") for year in range(2000, 2026, 2)] + [pd.Timestamp.max]\n",
    "labels = ['Pre-2000'] + [f'{year}-{year+1}' for year in range(2000, 2025, 2)]\n",
    "\n",
    "# Create a new column with the time periods\n",
    "df['Time Period'] = pd.cut(df['Date added'], bins=bins, labels=labels)\n",
    "\n",
    "# Count companies in each period\n",
    "period_counts = df['Time Period'].value_counts().sort_index()\n",
    "\n",
    "# Create the plot\n",
    "plt.figure(figsize=(15, 6))\n",
    "sns.barplot(x=period_counts.index, y=period_counts.values)\n",
    "plt.title('S&P 500 Companies by Addition Period')\n",
    "plt.xlabel('Time Period')\n",
    "plt.ylabel('Number of Companies')\n",
    "plt.xticks(rotation=45)\n",
    "plt.tight_layout()\n",
    "plt.show()"
   ]
  },
  {
   "cell_type": "code",
   "execution_count": null,
   "metadata": {},
   "outputs": [],
   "source": [
    "# Count the numbers of companies added after 2022\n",
    "companies_added_after_2022 = df[df['Date added'] > '2022-01-01'].shape[0]\n",
    "print(f\"Number of companies added after 2022: {companies_added_after_2022}\")"
   ]
  },
  {
   "cell_type": "code",
   "execution_count": null,
   "metadata": {},
   "outputs": [],
   "source": [
    "# Display oldest companies\n",
    "print(\"Oldest Companies in the S&P 500:\")\n",
    "oldest_companies = df.nsmallest(10, \"Founded\")[[\"Symbol\", \"Security\", \"Founded\", \"GICS Sector\"]]\n",
    "display(oldest_companies)\n",
    "\n",
    "# %%\n",
    "# Display newest companies\n",
    "print(\"\\nNewest Companies in the S&P 500 (by founding year):\")\n",
    "newest_companies = df.nlargest(10, \"Founded\")[\n",
    "    [\"Symbol\", \"Security\", \"Founded\", \"GICS Sector\"]\n",
    "]\n",
    "display(newest_companies)"
   ]
  },
  {
   "cell_type": "code",
   "execution_count": null,
   "metadata": {},
   "outputs": [],
   "source": [
    "# Create summary statistics\n",
    "summary_stats = pd.DataFrame(\n",
    "    {\n",
    "        \"Metric\": [\n",
    "            \"Total Companies\",\n",
    "            \"Number of Sectors\",\n",
    "            \"Number of Sub-Industries\",\n",
    "            \"Average Company Age\",\n",
    "            \"Median Company Age\",\n",
    "            \"Oldest Company Year\",\n",
    "            \"Newest Company Year\",\n",
    "        ],\n",
    "        \"Value\": [\n",
    "            len(df),\n",
    "            df[\"GICS Sector\"].nunique(),\n",
    "            df[\"GICS Sub-Industry\"].nunique(),\n",
    "            df[\"Age\"].mean().round(1),\n",
    "            df[\"Age\"].median(),\n",
    "            df[\"Founded\"].min(),\n",
    "            df[\"Founded\"].max(),\n",
    "        ],\n",
    "    }\n",
    ")\n",
    "\n",
    "display(summary_stats)"
   ]
  }
 ],
 "metadata": {
  "kernelspec": {
   "display_name": ".venv",
   "language": "python",
   "name": "python3"
  },
  "language_info": {
   "codemirror_mode": {
    "name": "ipython",
    "version": 3
   },
   "file_extension": ".py",
   "mimetype": "text/x-python",
   "name": "python",
   "nbconvert_exporter": "python",
   "pygments_lexer": "ipython3",
   "version": "3.12.6"
  }
 },
 "nbformat": 4,
 "nbformat_minor": 2
}
